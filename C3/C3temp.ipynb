{
 "cells": [
  {
   "cell_type": "markdown",
   "metadata": {},
   "source": [
    "# <center>Challenge 3<center>"
   ]
  },
  {
   "cell_type": "markdown",
   "metadata": {},
   "source": [
    "<p>Team Name: Martin-Mire-Crawford\n",
    "<p>Student Names: Kyle Martin, Allen Mire, Garrett Crawford\n",
    "<p>Student W#s: W0470161, W0445696, W0682298"
   ]
  },
  {
   "cell_type": "markdown",
   "metadata": {},
   "source": [
    "## Instructions\n",
    "Do NOT hard-code a path or a header name unless otherwise said.<br>\n",
    "Your code must be efficient and use self-explanatory naming.<br>\n",
    "Use appropriate Python library methods for each task instead of using loops.<br>\n",
    "Run your entire code and save. Then submit this <b>saved</b> copy."
   ]
  },
  {
   "cell_type": "markdown",
   "metadata": {
    "collapsed": true
   },
   "source": [
    "## Imports"
   ]
  },
  {
   "cell_type": "code",
   "execution_count": 15,
   "metadata": {},
   "outputs": [
    {
     "data": {
      "text/plain": [
       "array([0.70868104, 0.02719018, 0.83524932, 0.41872641, 0.08691675])"
      ]
     },
     "execution_count": 15,
     "metadata": {},
     "output_type": "execute_result"
    }
   ],
   "source": [
    "import numpy as np\n",
    "import math\n",
    "import matplotlib.pyplot as plt\n",
    "\n",
    "\n",
    "rng = np.random.RandomState(10242021)\n",
    "rng.rand(5)"
   ]
  },
  {
   "cell_type": "markdown",
   "metadata": {},
   "source": [
    "## Prepare Data"
   ]
  },
  {
   "cell_type": "markdown",
   "metadata": {
    "collapsed": true
   },
   "source": [
    "<b>A. Create a data set with 100 feature vectors with the following attributes (features) as such:</b>\n",
    "\n",
    "a1 is from a normal distribution N(mean=10,var=4)<br>\n",
    "a2 is from a normal distribution N(mean=10,var=4)<br>\n",
    "a3 is from a normal distribution N(mean=20,var=4)<br>\n",
    "a4 is from a normal distribution N(mean=20,var=16)<br>\n",
    "a5 is eqaul to 2*a2<br>\n",
    "a6 is from a uniform distribution U(min=4,max=16)<br>\n",
    "a7 is from a uniform distribution U(min=14,max=26)<br>\n",
    "a8 is eqaul to 2*a7<br>\n",
    "a9 is equal to a1 + a noise from a normal distribution N(0,0.25)<br>\n",
    "a10 is equal to a7 + a noise from a normal distribution N(0,0.25)<br>\n",
    "a11 is randomly selected from categories of {Y, N}. Categories have the same probability of occurence.<br>\n",
    "a12 is from a nominal domain with categories of {H, C}. Categories have the same probability of occurence."
   ]
  },
  {
   "cell_type": "code",
   "execution_count": 14,
   "metadata": {},
   "outputs": [],
   "source": [
    "a1 = rng.normal(10, math.sqrt(4), 100)\n",
    "a2 = rng.normal(10, math.sqrt(4), 100)\n",
    "a3 = rng.normal(20, math.sqrt(4), 100)\n",
    "a4 = rng.normal(20, math.sqrt(16), 100)\n",
    "a5 = 2*a2\n",
    "a6 = rng.uniform(4, 16, 100)\n",
    "a7 = rng.uniform(14, 26, 100)\n",
    "a8 = 2*a7\n",
    "a9 = np.append(a1, rng.normal(0, math.sqrt(0.25), 25)) #correct size? 100 + 25 = 125 total elements\n",
    "a10 = np.append(a7, rng.normal(0, math.sqrt(0.25), 25)) #correct size? \n",
    "a11 = rng.choice(['Y', 'N'], size = 100, replace = True) #by default each input item has an equal prob. of being selected\n",
    "a12 = rng.choice(['H', 'C'], size = 100, replace = True) #Same as a11?"
   ]
  },
  {
   "cell_type": "markdown",
   "metadata": {},
   "source": [
    "## Explore Data"
   ]
  },
  {
   "cell_type": "markdown",
   "metadata": {},
   "source": [
    "Plot Box-Whisker in the same chart"
   ]
  },
  {
   "cell_type": "code",
   "execution_count": 16,
   "metadata": {},
   "outputs": [
    {
     "data": {
      "text/plain": [
       "{'whiskers': [<matplotlib.lines.Line2D at 0x17299751a30>,\n",
       "  <matplotlib.lines.Line2D at 0x17299751d90>],\n",
       " 'caps': [<matplotlib.lines.Line2D at 0x1729976a130>,\n",
       "  <matplotlib.lines.Line2D at 0x1729976a490>],\n",
       " 'boxes': [<matplotlib.lines.Line2D at 0x172997516d0>],\n",
       " 'medians': [<matplotlib.lines.Line2D at 0x1729976a820>],\n",
       " 'fliers': [<matplotlib.lines.Line2D at 0x1729976ab20>],\n",
       " 'means': []}"
      ]
     },
     "execution_count": 16,
     "metadata": {},
     "output_type": "execute_result"
    },
    {
     "data": {
      "image/png": "[encoded data removed]",
      "text/plain": [
       "<Figure size 432x288 with 1 Axes>"
      ]
     },
     "metadata": {
      "needs_background": "light"
     },
     "output_type": "display_data"
    }
   ],
   "source": [
    "plt.boxplot(a1)"
   ]
  },
  {
   "cell_type": "markdown",
   "metadata": {},
   "source": [
    "Plot histogram of each attribute in the same figure on separate sub-charts. Use equal-width discretization."
   ]
  },
  {
   "cell_type": "code",
   "execution_count": null,
   "metadata": {},
   "outputs": [],
   "source": []
  },
  {
   "cell_type": "markdown",
   "metadata": {},
   "source": [
    "## Smoothing"
   ]
  },
  {
   "cell_type": "markdown",
   "metadata": {},
   "source": [
    "Smooth by bin means"
   ]
  },
  {
   "cell_type": "code",
   "execution_count": null,
   "metadata": {},
   "outputs": [],
   "source": []
  },
  {
   "cell_type": "markdown",
   "metadata": {},
   "source": [
    "Smooth by bin median"
   ]
  },
  {
   "cell_type": "code",
   "execution_count": null,
   "metadata": {},
   "outputs": [],
   "source": []
  },
  {
   "cell_type": "markdown",
   "metadata": {},
   "source": [
    "Smooth by the kernel [1 2 6 2 1]. Apply padding with the same value as needed."
   ]
  },
  {
   "cell_type": "code",
   "execution_count": null,
   "metadata": {},
   "outputs": [],
   "source": []
  },
  {
   "cell_type": "markdown",
   "metadata": {},
   "source": [
    "## Analyze Attribute Independency"
   ]
  },
  {
   "cell_type": "markdown",
   "metadata": {},
   "source": [
    "Generate Correlation-Coefficient Matrix. Discuss how attributes are correlated."
   ]
  },
  {
   "cell_type": "code",
   "execution_count": null,
   "metadata": {},
   "outputs": [],
   "source": []
  },
  {
   "cell_type": "markdown",
   "metadata": {},
   "source": [
    "Generate Chi-square Matrix. Discuss how attributes are correlated."
   ]
  },
  {
   "cell_type": "code",
   "execution_count": null,
   "metadata": {},
   "outputs": [],
   "source": []
  },
  {
   "cell_type": "markdown",
   "metadata": {},
   "source": [
    "Generate Scatter-Plot Matrix. Discuss how attributes are correlated."
   ]
  },
  {
   "cell_type": "code",
   "execution_count": null,
   "metadata": {},
   "outputs": [],
   "source": []
  },
  {
   "cell_type": "markdown",
   "metadata": {},
   "source": [
    "## Data Reduction"
   ]
  },
  {
   "cell_type": "markdown",
   "metadata": {},
   "source": [
    "Apply PCA. Discuss outcome of PCA analysis and how you can use outcome of PCA analysis for data reduction."
   ]
  },
  {
   "cell_type": "code",
   "execution_count": null,
   "metadata": {},
   "outputs": [],
   "source": []
  },
  {
   "cell_type": "markdown",
   "metadata": {
    "collapsed": true
   },
   "source": [
    "## <center> REFERENCES </center>\n",
    "List resources (book, internet page, etc.) that you used to complete this challenge."
   ]
  },
  {
   "cell_type": "markdown",
   "metadata": {},
   "source": []
  }
 ],
 "metadata": {
  "interpreter": {
   "hash": "b3ba2566441a7c06988d0923437866b63cedc61552a5af99d1f4fb67d367b25f"
  },
  "kernelspec": {
   "display_name": "Python 3",
   "language": "python",
   "name": "python3"
  },
  "language_info": {
   "codemirror_mode": {
    "name": "ipython",
    "version": 3
   },
   "file_extension": ".py",
   "mimetype": "text/x-python",
   "name": "python",
   "nbconvert_exporter": "python",
   "pygments_lexer": "ipython3",
   "version": "3.8.3"
  }
 },
 "nbformat": 4,
 "nbformat_minor": 2
}
