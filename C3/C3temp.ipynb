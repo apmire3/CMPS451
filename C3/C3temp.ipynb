{
 "cells": [
  {
   "cell_type": "markdown",
   "metadata": {},
   "source": [
    "# <center>Challenge 3<center>"
   ]
  },
  {
   "cell_type": "markdown",
   "metadata": {},
   "source": [
    "<p>Team Name: Martin-Mire-Crawford\n",
    "<p>Student Names: Kyle Martin, Allen Mire, Garrett Crawford\n",
    "<p>Student W#s: W0470161, W0445696, W0682298"
   ]
  },
  {
   "cell_type": "markdown",
   "metadata": {},
   "source": [
    "## Instructions\n",
    "Do NOT hard-code a path or a header name unless otherwise said.<br>\n",
    "Your code must be efficient and use self-explanatory naming.<br>\n",
    "Use appropriate Python library methods for each task instead of using loops.<br>\n",
    "Run your entire code and save. Then submit this <b>saved</b> copy."
   ]
  },
  {
   "cell_type": "markdown",
   "metadata": {
    "collapsed": true
   },
   "source": [
    "## Imports"
   ]
  },
  {
   "cell_type": "code",
   "execution_count": 5,
   "metadata": {},
   "outputs": [
    {
     "data": {
      "text/plain": [
       "array([0.70868104, 0.02719018, 0.83524932, 0.41872641, 0.08691675])"
      ]
     },
     "execution_count": 5,
     "metadata": {},
     "output_type": "execute_result"
    }
   ],
   "source": [
    "import numpy as np\n",
    "import math\n",
    "import matplotlib.pyplot as plt\n",
    "import pandas as pd\n",
    "\n",
    "rng = np.random.RandomState(10242021)\n",
    "rng.rand(5)"
   ]
  },
  {
   "cell_type": "markdown",
   "metadata": {},
   "source": [
    "## Prepare Data"
   ]
  },
  {
   "cell_type": "markdown",
   "metadata": {
    "collapsed": true
   },
   "source": [
    "<b>A. Create a data set with 100 feature vectors with the following attributes (features) as such:</b>\n",
    "\n",
    "a1 is from a normal distribution N(mean=10,var=4)<br>\n",
    "a2 is from a normal distribution N(mean=10,var=4)<br>\n",
    "a3 is from a normal distribution N(mean=20,var=4)<br>\n",
    "a4 is from a normal distribution N(mean=20,var=16)<br>\n",
    "a5 is eqaul to 2*a2<br>\n",
    "a6 is from a uniform distribution U(min=4,max=16)<br>\n",
    "a7 is from a uniform distribution U(min=14,max=26)<br>\n",
    "a8 is eqaul to 2*a7<br>\n",
    "a9 is equal to a1 + a noise from a normal distribution N(0,0.25)<br>\n",
    "a10 is equal to a7 + a noise from a normal distribution N(0,0.25)<br>\n",
    "a11 is randomly selected from categories of {Y, N}. Categories have the same probability of occurence.<br>\n",
    "a12 is from a nominal domain with categories of {H, C}. Categories have the same probability of occurence."
   ]
  },
  {
   "cell_type": "code",
   "execution_count": 47,
   "metadata": {},
   "outputs": [],
   "source": [
    "a1 = np.sort(rng.normal(10, math.sqrt(4), 100))\n",
    "a2 = np.sort(rng.normal(10, math.sqrt(4), 100))\n",
    "a3 = np.sort(rng.normal(20, math.sqrt(4), 100))\n",
    "a4 = np.sort(rng.normal(20, math.sqrt(16), 100))\n",
    "a5 = np.sort(2*a2)\n",
    "a6 = np.sort(rng.uniform(4, 16, 100))\n",
    "a7 = np.sort(rng.uniform(14, 26, 100))\n",
    "a8 = np.sort(2*a7)\n",
    "a9 = np.sort(a1 + rng.normal(0, math.sqrt(0.25), 100))\n",
    "a10 = np.sort(a7 + rng.normal(0, math.sqrt(0.25), 100)) \n",
    "a11 = rng.choice(['Y', 'N'], size = 100, replace = True) #by default each input item has an equal prob. of being selected\n",
    "a12 = rng.choice(['H', 'C'], size = 100, replace = True) #Same as a11?\n",
    "\n",
    "data = [a1, a2, a3, a4, a5, a6, a7, a8, a9, a10]\n",
    "labels = ['a1', 'a2', 'a3', 'a4', 'a5', 'a6', 'a7', 'a8', 'a9', 'a10']\n",
    "\n",
    "#display(data)"
   ]
  },
  {
   "cell_type": "markdown",
   "metadata": {},
   "source": [
    "## Explore Data"
   ]
  },
  {
   "cell_type": "markdown",
   "metadata": {},
   "source": [
    "Plot Box-Whisker in the same chart"
   ]
  },
  {
   "cell_type": "code",
   "execution_count": 48,
   "metadata": {
    "scrolled": true
   },
   "outputs": [
    {
     "data": {
      "text/plain": [
       "{'whiskers': [<matplotlib.lines.Line2D at 0x1d603b1d608>,\n",
       "  <matplotlib.lines.Line2D at 0x1d603b1dcc8>,\n",
       "  <matplotlib.lines.Line2D at 0x1d603b403c8>,\n",
       "  <matplotlib.lines.Line2D at 0x1d603b40d08>,\n",
       "  <matplotlib.lines.Line2D at 0x1d603b67288>,\n",
       "  <matplotlib.lines.Line2D at 0x1d603b6ae48>,\n",
       "  <matplotlib.lines.Line2D at 0x1d603b4bc48>,\n",
       "  <matplotlib.lines.Line2D at 0x1d603b725c8>,\n",
       "  <matplotlib.lines.Line2D at 0x1d603d45cc8>,\n",
       "  <matplotlib.lines.Line2D at 0x1d603b6aec8>,\n",
       "  <matplotlib.lines.Line2D at 0x1d603d5d388>,\n",
       "  <matplotlib.lines.Line2D at 0x1d603d567c8>,\n",
       "  <matplotlib.lines.Line2D at 0x1d603d6c6c8>,\n",
       "  <matplotlib.lines.Line2D at 0x1d603d64b88>,\n",
       "  <matplotlib.lines.Line2D at 0x1d603d7da08>,\n",
       "  <matplotlib.lines.Line2D at 0x1d603d74ec8>,\n",
       "  <matplotlib.lines.Line2D at 0x1d603d6ec48>,\n",
       "  <matplotlib.lines.Line2D at 0x1d603d88bc8>,\n",
       "  <matplotlib.lines.Line2D at 0x1d603d9dec8>,\n",
       "  <matplotlib.lines.Line2D at 0x1d603d99e08>],\n",
       " 'caps': [<matplotlib.lines.Line2D at 0x1d603b1ddc8>,\n",
       "  <matplotlib.lines.Line2D at 0x1d603b1de48>,\n",
       "  <matplotlib.lines.Line2D at 0x1d603b40548>,\n",
       "  <matplotlib.lines.Line2D at 0x1d603b40848>,\n",
       "  <matplotlib.lines.Line2D at 0x1d603b67fc8>,\n",
       "  <matplotlib.lines.Line2D at 0x1d603b67f88>,\n",
       "  <matplotlib.lines.Line2D at 0x1d603b4be48>,\n",
       "  <matplotlib.lines.Line2D at 0x1d603b46748>,\n",
       "  <matplotlib.lines.Line2D at 0x1d603d45888>,\n",
       "  <matplotlib.lines.Line2D at 0x1d603b67b88>,\n",
       "  <matplotlib.lines.Line2D at 0x1d603d56088>,\n",
       "  <matplotlib.lines.Line2D at 0x1d603d5df88>,\n",
       "  <matplotlib.lines.Line2D at 0x1d603d64408>,\n",
       "  <matplotlib.lines.Line2D at 0x1d603d6c948>,\n",
       "  <matplotlib.lines.Line2D at 0x1d603d83288>,\n",
       "  <matplotlib.lines.Line2D at 0x1d603d83a08>,\n",
       "  <matplotlib.lines.Line2D at 0x1d603d881c8>,\n",
       "  <matplotlib.lines.Line2D at 0x1d603d6ef48>,\n",
       "  <matplotlib.lines.Line2D at 0x1d603d99408>,\n",
       "  <matplotlib.lines.Line2D at 0x1d603da5fc8>],\n",
       " 'boxes': [<matplotlib.patches.PathPatch at 0x1d603b1d288>,\n",
       "  <matplotlib.patches.PathPatch at 0x1d603b40388>,\n",
       "  <matplotlib.patches.PathPatch at 0x1d603b6ad48>,\n",
       "  <matplotlib.patches.PathPatch at 0x1d603b4b188>,\n",
       "  <matplotlib.patches.PathPatch at 0x1d603b4b408>,\n",
       "  <matplotlib.patches.PathPatch at 0x1d603d56c48>,\n",
       "  <matplotlib.patches.PathPatch at 0x1d603d56b88>,\n",
       "  <matplotlib.patches.PathPatch at 0x1d603d64f88>,\n",
       "  <matplotlib.patches.PathPatch at 0x1d603d741c8>,\n",
       "  <matplotlib.patches.PathPatch at 0x1d603d88908>],\n",
       " 'medians': [<matplotlib.lines.Line2D at 0x1d603b12d48>,\n",
       "  <matplotlib.lines.Line2D at 0x1d603b68e08>,\n",
       "  <matplotlib.lines.Line2D at 0x1d603b72cc8>,\n",
       "  <matplotlib.lines.Line2D at 0x1d603b4b2c8>,\n",
       "  <matplotlib.lines.Line2D at 0x1d603d4dcc8>,\n",
       "  <matplotlib.lines.Line2D at 0x1d603d5d948>,\n",
       "  <matplotlib.lines.Line2D at 0x1d603d6cc88>,\n",
       "  <matplotlib.lines.Line2D at 0x1d603d74748>,\n",
       "  <matplotlib.lines.Line2D at 0x1d603d934c8>,\n",
       "  <matplotlib.lines.Line2D at 0x1d603da5748>],\n",
       " 'fliers': [<matplotlib.lines.Line2D at 0x1d603b12e48>,\n",
       "  <matplotlib.lines.Line2D at 0x1d603b68e88>,\n",
       "  <matplotlib.lines.Line2D at 0x1d603b72dc8>,\n",
       "  <matplotlib.lines.Line2D at 0x1d603b46988>,\n",
       "  <matplotlib.lines.Line2D at 0x1d603d56a48>,\n",
       "  <matplotlib.lines.Line2D at 0x1d603d64108>,\n",
       "  <matplotlib.lines.Line2D at 0x1d603d74d88>,\n",
       "  <matplotlib.lines.Line2D at 0x1d603d83c88>,\n",
       "  <matplotlib.lines.Line2D at 0x1d603d4dd48>,\n",
       "  <matplotlib.lines.Line2D at 0x1d603daaf08>],\n",
       " 'means': []}"
      ]
     },
     "execution_count": 48,
     "metadata": {},
     "output_type": "execute_result"
    },
    {
     "data": {
      "image/png": "[encoded data removed]",
      "text/plain": [
       "<Figure size 432x288 with 1 Axes>"
      ]
     },
     "metadata": {
      "needs_background": "light"
     },
     "output_type": "display_data"
    }
   ],
   "source": [
    "plt.boxplot(data, vert = True, patch_artist=True, labels=labels) #add titles and labels"
   ]
  },
  {
   "cell_type": "markdown",
   "metadata": {},
   "source": [
    "Plot histogram of each attribute in the same figure on separate sub-charts. Use equal-width discretization."
   ]
  },
  {
   "cell_type": "code",
   "execution_count": 50,
   "metadata": {},
   "outputs": [
    {
     "ename": "ValueError",
     "evalue": "Illegal argument(s) to subplot: (1, 0)",
     "output_type": "error",
     "traceback": [
      "\u001b[1;31m---------------------------------------------------------------------------\u001b[0m",
      "\u001b[1;31mValueError\u001b[0m                                Traceback (most recent call last)",
      "\u001b[1;32m<ipython-input-50-f7cfd75b49ca>\u001b[0m in \u001b[0;36m<module>\u001b[1;34m\u001b[0m\n\u001b[0;32m      1\u001b[0m \u001b[0mfigure\u001b[0m \u001b[1;33m=\u001b[0m \u001b[0mplt\u001b[0m\u001b[1;33m.\u001b[0m\u001b[0mfigure\u001b[0m\u001b[1;33m(\u001b[0m\u001b[0mfigsize\u001b[0m\u001b[1;33m=\u001b[0m\u001b[1;33m(\u001b[0m\u001b[1;36m2\u001b[0m\u001b[1;33m,\u001b[0m \u001b[1;36m5\u001b[0m\u001b[1;33m)\u001b[0m\u001b[1;33m)\u001b[0m\u001b[1;33m\u001b[0m\u001b[1;33m\u001b[0m\u001b[0m\n\u001b[0;32m      2\u001b[0m \u001b[1;32mfor\u001b[0m \u001b[0mi\u001b[0m \u001b[1;32min\u001b[0m \u001b[0mrange\u001b[0m\u001b[1;33m(\u001b[0m\u001b[1;36m5\u001b[0m\u001b[1;33m)\u001b[0m\u001b[1;33m:\u001b[0m\u001b[1;33m\u001b[0m\u001b[1;33m\u001b[0m\u001b[0m\n\u001b[1;32m----> 3\u001b[1;33m     \u001b[0mplt\u001b[0m\u001b[1;33m.\u001b[0m\u001b[0msubplot\u001b[0m\u001b[1;33m(\u001b[0m\u001b[1;36m1\u001b[0m\u001b[1;33m,\u001b[0m \u001b[0mi\u001b[0m\u001b[1;33m,\u001b[0m \u001b[0mtitle\u001b[0m\u001b[1;33m=\u001b[0m\u001b[0mlabels\u001b[0m\u001b[1;33m[\u001b[0m\u001b[0mi\u001b[0m\u001b[1;33m]\u001b[0m\u001b[1;33m)\u001b[0m\u001b[1;33m\u001b[0m\u001b[1;33m\u001b[0m\u001b[0m\n\u001b[0m\u001b[0;32m      4\u001b[0m     \u001b[1;31m#w = data[i][-1] - data[i][0] / 10\u001b[0m\u001b[1;33m\u001b[0m\u001b[1;33m\u001b[0m\u001b[1;33m\u001b[0m\u001b[0m\n\u001b[0;32m      5\u001b[0m     \u001b[0mplt\u001b[0m\u001b[1;33m.\u001b[0m\u001b[0mhist\u001b[0m\u001b[1;33m(\u001b[0m\u001b[0mdata\u001b[0m\u001b[1;33m[\u001b[0m\u001b[0mi\u001b[0m\u001b[1;33m]\u001b[0m\u001b[1;33m,\u001b[0m \u001b[0mbins\u001b[0m\u001b[1;33m=\u001b[0m\u001b[1;36m10\u001b[0m\u001b[1;33m,\u001b[0m \u001b[0medgecolor\u001b[0m\u001b[1;33m=\u001b[0m\u001b[1;34m'white'\u001b[0m\u001b[1;33m)\u001b[0m\u001b[1;33m\u001b[0m\u001b[1;33m\u001b[0m\u001b[0m\n",
      "\u001b[1;32mC:\\ProgramData\\Anaconda3\\lib\\site-packages\\matplotlib\\pyplot.py\u001b[0m in \u001b[0;36msubplot\u001b[1;34m(*args, **kwargs)\u001b[0m\n\u001b[0;32m   1074\u001b[0m \u001b[1;33m\u001b[0m\u001b[0m\n\u001b[0;32m   1075\u001b[0m     \u001b[0mfig\u001b[0m \u001b[1;33m=\u001b[0m \u001b[0mgcf\u001b[0m\u001b[1;33m(\u001b[0m\u001b[1;33m)\u001b[0m\u001b[1;33m\u001b[0m\u001b[1;33m\u001b[0m\u001b[0m\n\u001b[1;32m-> 1076\u001b[1;33m     \u001b[0ma\u001b[0m \u001b[1;33m=\u001b[0m \u001b[0mfig\u001b[0m\u001b[1;33m.\u001b[0m\u001b[0madd_subplot\u001b[0m\u001b[1;33m(\u001b[0m\u001b[1;33m*\u001b[0m\u001b[0margs\u001b[0m\u001b[1;33m,\u001b[0m \u001b[1;33m**\u001b[0m\u001b[0mkwargs\u001b[0m\u001b[1;33m)\u001b[0m\u001b[1;33m\u001b[0m\u001b[1;33m\u001b[0m\u001b[0m\n\u001b[0m\u001b[0;32m   1077\u001b[0m     \u001b[0mbbox\u001b[0m \u001b[1;33m=\u001b[0m \u001b[0ma\u001b[0m\u001b[1;33m.\u001b[0m\u001b[0mbbox\u001b[0m\u001b[1;33m\u001b[0m\u001b[1;33m\u001b[0m\u001b[0m\n\u001b[0;32m   1078\u001b[0m     \u001b[0mbyebye\u001b[0m \u001b[1;33m=\u001b[0m \u001b[1;33m[\u001b[0m\u001b[1;33m]\u001b[0m\u001b[1;33m\u001b[0m\u001b[1;33m\u001b[0m\u001b[0m\n",
      "\u001b[1;32mC:\\ProgramData\\Anaconda3\\lib\\site-packages\\matplotlib\\figure.py\u001b[0m in \u001b[0;36madd_subplot\u001b[1;34m(self, *args, **kwargs)\u001b[0m\n\u001b[0;32m   1412\u001b[0m                     \u001b[0mself\u001b[0m\u001b[1;33m.\u001b[0m\u001b[0m_axstack\u001b[0m\u001b[1;33m.\u001b[0m\u001b[0mremove\u001b[0m\u001b[1;33m(\u001b[0m\u001b[0max\u001b[0m\u001b[1;33m)\u001b[0m\u001b[1;33m\u001b[0m\u001b[1;33m\u001b[0m\u001b[0m\n\u001b[0;32m   1413\u001b[0m \u001b[1;33m\u001b[0m\u001b[0m\n\u001b[1;32m-> 1414\u001b[1;33m             \u001b[0ma\u001b[0m \u001b[1;33m=\u001b[0m \u001b[0msubplot_class_factory\u001b[0m\u001b[1;33m(\u001b[0m\u001b[0mprojection_class\u001b[0m\u001b[1;33m)\u001b[0m\u001b[1;33m(\u001b[0m\u001b[0mself\u001b[0m\u001b[1;33m,\u001b[0m \u001b[1;33m*\u001b[0m\u001b[0margs\u001b[0m\u001b[1;33m,\u001b[0m \u001b[1;33m**\u001b[0m\u001b[0mkwargs\u001b[0m\u001b[1;33m)\u001b[0m\u001b[1;33m\u001b[0m\u001b[1;33m\u001b[0m\u001b[0m\n\u001b[0m\u001b[0;32m   1415\u001b[0m \u001b[1;33m\u001b[0m\u001b[0m\n\u001b[0;32m   1416\u001b[0m         \u001b[1;32mreturn\u001b[0m \u001b[0mself\u001b[0m\u001b[1;33m.\u001b[0m\u001b[0m_add_axes_internal\u001b[0m\u001b[1;33m(\u001b[0m\u001b[0mkey\u001b[0m\u001b[1;33m,\u001b[0m \u001b[0ma\u001b[0m\u001b[1;33m)\u001b[0m\u001b[1;33m\u001b[0m\u001b[1;33m\u001b[0m\u001b[0m\n",
      "\u001b[1;32mC:\\ProgramData\\Anaconda3\\lib\\site-packages\\matplotlib\\axes\\_subplots.py\u001b[0m in \u001b[0;36m__init__\u001b[1;34m(self, fig, *args, **kwargs)\u001b[0m\n\u001b[0;32m     62\u001b[0m                 \u001b[1;31m# num - 1 for converting from MATLAB to python indexing\u001b[0m\u001b[1;33m\u001b[0m\u001b[1;33m\u001b[0m\u001b[1;33m\u001b[0m\u001b[0m\n\u001b[0;32m     63\u001b[0m         \u001b[1;32melse\u001b[0m\u001b[1;33m:\u001b[0m\u001b[1;33m\u001b[0m\u001b[1;33m\u001b[0m\u001b[0m\n\u001b[1;32m---> 64\u001b[1;33m             \u001b[1;32mraise\u001b[0m \u001b[0mValueError\u001b[0m\u001b[1;33m(\u001b[0m\u001b[1;34mf'Illegal argument(s) to subplot: {args}'\u001b[0m\u001b[1;33m)\u001b[0m\u001b[1;33m\u001b[0m\u001b[1;33m\u001b[0m\u001b[0m\n\u001b[0m\u001b[0;32m     65\u001b[0m \u001b[1;33m\u001b[0m\u001b[0m\n\u001b[0;32m     66\u001b[0m         \u001b[0mself\u001b[0m\u001b[1;33m.\u001b[0m\u001b[0mupdate_params\u001b[0m\u001b[1;33m(\u001b[0m\u001b[1;33m)\u001b[0m\u001b[1;33m\u001b[0m\u001b[1;33m\u001b[0m\u001b[0m\n",
      "\u001b[1;31mValueError\u001b[0m: Illegal argument(s) to subplot: (1, 0)"
     ]
    },
    {
     "data": {
      "text/plain": [
       "<Figure size 144x360 with 0 Axes>"
      ]
     },
     "metadata": {},
     "output_type": "display_data"
    }
   ],
   "source": [
    "figure = plt.figure(figsize=(2, 5))\n",
    "for i in range(5):\n",
    "    plt.subplot(1, i, title=labels[i])\n",
    "    #w = data[i][-1] - data[i][0] / 10\n",
    "    plt.hist(data[i], bins=10, edgecolor='white')\n",
    "\n",
    "    "
   ]
  },
  {
   "cell_type": "markdown",
   "metadata": {},
   "source": [
    "## Smoothing"
   ]
  },
  {
   "cell_type": "markdown",
   "metadata": {},
   "source": [
    "Smooth by bin means"
   ]
  },
  {
   "cell_type": "code",
   "execution_count": null,
   "metadata": {},
   "outputs": [],
   "source": []
  },
  {
   "cell_type": "markdown",
   "metadata": {},
   "source": [
    "Smooth by bin median"
   ]
  },
  {
   "cell_type": "code",
   "execution_count": null,
   "metadata": {},
   "outputs": [],
   "source": []
  },
  {
   "cell_type": "markdown",
   "metadata": {},
   "source": [
    "Smooth by the kernel [1 2 6 2 1]. Apply padding with the same value as needed."
   ]
  },
  {
   "cell_type": "code",
   "execution_count": null,
   "metadata": {},
   "outputs": [],
   "source": []
  },
  {
   "cell_type": "markdown",
   "metadata": {},
   "source": [
    "## Analyze Attribute Independency"
   ]
  },
  {
   "cell_type": "markdown",
   "metadata": {},
   "source": [
    "Generate Correlation-Coefficient Matrix. Discuss how attributes are correlated."
   ]
  },
  {
   "cell_type": "code",
   "execution_count": null,
   "metadata": {},
   "outputs": [],
   "source": []
  },
  {
   "cell_type": "markdown",
   "metadata": {},
   "source": [
    "Generate Chi-square Matrix. Discuss how attributes are correlated."
   ]
  },
  {
   "cell_type": "code",
   "execution_count": null,
   "metadata": {},
   "outputs": [],
   "source": []
  },
  {
   "cell_type": "markdown",
   "metadata": {},
   "source": [
    "Generate Scatter-Plot Matrix. Discuss how attributes are correlated."
   ]
  },
  {
   "cell_type": "code",
   "execution_count": null,
   "metadata": {},
   "outputs": [],
   "source": []
  },
  {
   "cell_type": "markdown",
   "metadata": {},
   "source": [
    "## Data Reduction"
   ]
  },
  {
   "cell_type": "markdown",
   "metadata": {},
   "source": [
    "Apply PCA. Discuss outcome of PCA analysis and how you can use outcome of PCA analysis for data reduction."
   ]
  },
  {
   "cell_type": "code",
   "execution_count": null,
   "metadata": {},
   "outputs": [],
   "source": []
  },
  {
   "cell_type": "markdown",
   "metadata": {
    "collapsed": true
   },
   "source": [
    "## <center> REFERENCES </center>\n",
    "List resources (book, internet page, etc.) that you used to complete this challenge."
   ]
  },
  {
   "cell_type": "markdown",
   "metadata": {},
   "source": []
  }
 ],
 "metadata": {
  "interpreter": {
   "hash": "b3ba2566441a7c06988d0923437866b63cedc61552a5af99d1f4fb67d367b25f"
  },
  "kernelspec": {
   "display_name": "Python 3",
   "language": "python",
   "name": "python3"
  },
  "language_info": {
   "codemirror_mode": {
    "name": "ipython",
    "version": 3
   },
   "file_extension": ".py",
   "mimetype": "text/x-python",
   "name": "python",
   "nbconvert_exporter": "python",
   "pygments_lexer": "ipython3",
   "version": "3.7.4"
  }
 },
 "nbformat": 4,
 "nbformat_minor": 2
}
