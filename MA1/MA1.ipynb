{
 "cells": [
  {
   "cell_type": "markdown",
   "metadata": {},
   "source": [
    "## Imports"
   ]
  },
  {
   "cell_type": "code",
   "execution_count": 1,
   "metadata": {},
   "outputs": [],
   "source": [
    "import pandas as pd\n",
    "import numpy as np\n",
    "import matplotlib.pyplot as plt\n",
    "import math\n",
    "from numpy.random import normal\n",
    "from numpy.random import uniform\n",
    "import statsmodels.api as sm\n",
    "from statsmodels.graphics.gofplots import qqplot_2samples\n",
    "import plotly.express as px"
   ]
  },
  {
   "cell_type": "markdown",
   "metadata": {},
   "source": [
    "## Data"
   ]
  },
  {
   "cell_type": "code",
   "execution_count": 6,
   "metadata": {},
   "outputs": [
    {
     "data": {
      "text/html": [
       "<div>\n",
       "<style scoped>\n",
       "    .dataframe tbody tr th:only-of-type {\n",
       "        vertical-align: middle;\n",
       "    }\n",
       "\n",
       "    .dataframe tbody tr th {\n",
       "        vertical-align: top;\n",
       "    }\n",
       "\n",
       "    .dataframe thead th {\n",
       "        text-align: right;\n",
       "    }\n",
       "</style>\n",
       "<table border=\"1\" class=\"dataframe\">\n",
       "  <thead>\n",
       "    <tr style=\"text-align: right;\">\n",
       "      <th></th>\n",
       "      <th>Id</th>\n",
       "      <th>X</th>\n",
       "      <th>Y</th>\n",
       "    </tr>\n",
       "  </thead>\n",
       "  <tbody>\n",
       "    <tr>\n",
       "      <th>0</th>\n",
       "      <td>1</td>\n",
       "      <td>13</td>\n",
       "      <td>30</td>\n",
       "    </tr>\n",
       "    <tr>\n",
       "      <th>1</th>\n",
       "      <td>2</td>\n",
       "      <td>15</td>\n",
       "      <td>20</td>\n",
       "    </tr>\n",
       "    <tr>\n",
       "      <th>2</th>\n",
       "      <td>3</td>\n",
       "      <td>17</td>\n",
       "      <td>31</td>\n",
       "    </tr>\n",
       "    <tr>\n",
       "      <th>3</th>\n",
       "      <td>4</td>\n",
       "      <td>20</td>\n",
       "      <td>50</td>\n",
       "    </tr>\n",
       "    <tr>\n",
       "      <th>4</th>\n",
       "      <td>5</td>\n",
       "      <td>22</td>\n",
       "      <td>58</td>\n",
       "    </tr>\n",
       "    <tr>\n",
       "      <th>5</th>\n",
       "      <td>6</td>\n",
       "      <td>24</td>\n",
       "      <td>51</td>\n",
       "    </tr>\n",
       "  </tbody>\n",
       "</table>\n",
       "</div>"
      ],
      "text/plain": [
       "   Id   X   Y\n",
       "0   1  13  30\n",
       "1   2  15  20\n",
       "2   3  17  31\n",
       "3   4  20  50\n",
       "4   5  22  58\n",
       "5   6  24  51"
      ]
     },
     "metadata": {},
     "output_type": "display_data"
    }
   ],
   "source": [
    "data = pd.DataFrame(np.array([[1, 2, 3, 4, 5, 6], \n",
    "                              [13, 15, 17, 20, 22, 24],\n",
    "                              [30, 20, 31, 50, 58, 51]]),\n",
    "                   index=['Id', 'X', 'Y']).T\n",
    "display(data)"
   ]
  },
  {
   "cell_type": "markdown",
   "metadata": {},
   "source": [
    "## Find Centroids"
   ]
  },
  {
   "cell_type": "code",
   "execution_count": 44,
   "metadata": {},
   "outputs": [],
   "source": [
    "#Note: given clusters are C1 = {P1, P2}, C2 = {P3, P4}, C3 = {P5, P6}\n",
    "#Find centriod, ki, for each cluster\n",
    "#Recall that the centroid is simply the median point of a cluster\n",
    "\n",
    "k1x = (13+15)/2\n",
    "k1y = (30+20)/2\n",
    "\n",
    "k2x = (17+20)/2\n",
    "k2y = (31+50)/2\n",
    "\n",
    "k3x = (22+24)/2\n",
    "k3y = (58+51)/2"
   ]
  },
  {
   "cell_type": "markdown",
   "metadata": {},
   "source": [
    "## Find dist. between centroids and each point"
   ]
  },
  {
   "cell_type": "code",
   "execution_count": 31,
   "metadata": {},
   "outputs": [
    {
     "data": {
      "text/html": [
       "<div>\n",
       "<style scoped>\n",
       "    .dataframe tbody tr th:only-of-type {\n",
       "        vertical-align: middle;\n",
       "    }\n",
       "\n",
       "    .dataframe tbody tr th {\n",
       "        vertical-align: top;\n",
       "    }\n",
       "\n",
       "    .dataframe thead th {\n",
       "        text-align: right;\n",
       "    }\n",
       "</style>\n",
       "<table border=\"1\" class=\"dataframe\">\n",
       "  <thead>\n",
       "    <tr style=\"text-align: right;\">\n",
       "      <th></th>\n",
       "      <th>K1</th>\n",
       "      <th>K2</th>\n",
       "      <th>K3</th>\n",
       "    </tr>\n",
       "  </thead>\n",
       "  <tbody>\n",
       "    <tr>\n",
       "      <th>0</th>\n",
       "      <td>5.099020</td>\n",
       "      <td>11.853270</td>\n",
       "      <td>26.462237</td>\n",
       "    </tr>\n",
       "    <tr>\n",
       "      <th>1</th>\n",
       "      <td>5.099020</td>\n",
       "      <td>20.796634</td>\n",
       "      <td>35.415392</td>\n",
       "    </tr>\n",
       "    <tr>\n",
       "      <th>2</th>\n",
       "      <td>6.708204</td>\n",
       "      <td>9.617692</td>\n",
       "      <td>24.253866</td>\n",
       "    </tr>\n",
       "    <tr>\n",
       "      <th>3</th>\n",
       "      <td>25.709920</td>\n",
       "      <td>9.617692</td>\n",
       "      <td>5.408327</td>\n",
       "    </tr>\n",
       "    <tr>\n",
       "      <th>4</th>\n",
       "      <td>33.955854</td>\n",
       "      <td>17.846568</td>\n",
       "      <td>3.640055</td>\n",
       "    </tr>\n",
       "    <tr>\n",
       "      <th>5</th>\n",
       "      <td>27.856777</td>\n",
       "      <td>11.853270</td>\n",
       "      <td>3.640055</td>\n",
       "    </tr>\n",
       "  </tbody>\n",
       "</table>\n",
       "</div>"
      ],
      "text/plain": [
       "          K1         K2         K3\n",
       "0   5.099020  11.853270  26.462237\n",
       "1   5.099020  20.796634  35.415392\n",
       "2   6.708204   9.617692  24.253866\n",
       "3  25.709920   9.617692   5.408327\n",
       "4  33.955854  17.846568   3.640055\n",
       "5  27.856777  11.853270   3.640055"
      ]
     },
     "metadata": {},
     "output_type": "display_data"
    }
   ],
   "source": [
    "#Function to find dist. between centroids and each point\n",
    "def dist(kix, kiy):\n",
    "    dist = []\n",
    "    i = 0\n",
    "    while i in range(6):\n",
    "        dist.append(math.sqrt((data.at[i, 'X'] - kix)**2 + (data.at[i, 'Y'] - kiy)**2))\n",
    "        i += 1\n",
    "    \n",
    "    return dist\n",
    "\n",
    "\n",
    "#Dist from each centroid to each point\n",
    "K1 = dist(k1x, k1y)\n",
    "K2 = dist(k2x, k2y)\n",
    "K3 = dist(k3x, k3y)\n",
    "\n",
    "#Data frame of these sets of distances for easy comparison\n",
    "K = pd.DataFrame([K1, K2, K3], index =['K1', 'K2', 'K3']).T\n",
    "display(K)"
   ]
  },
  {
   "cell_type": "markdown",
   "metadata": {},
   "source": [
    "## Determine new clusters by assigning each point to the cluster it is closest to."
   ]
  },
  {
   "cell_type": "markdown",
   "metadata": {},
   "source": [
    "C1 = {P1, P2, P3} <br>\n",
    "C2 = {} <br>\n",
    "C3 = {P4, P5, P6}\n",
    "\n",
    "In this case cluster C2 is empty."
   ]
  },
  {
   "cell_type": "markdown",
   "metadata": {},
   "source": [
    "## Find the SSE for C1 and C3"
   ]
  },
  {
   "cell_type": "markdown",
   "metadata": {},
   "source": [
    "We must first find the new centroids for C1 and C3"
   ]
  },
  {
   "cell_type": "code",
   "execution_count": 32,
   "metadata": {},
   "outputs": [],
   "source": [
    "c1x = (13+15+17)/3\n",
    "c1y = (30+20+31)/3\n",
    "\n",
    "c3x = (20+22+24)/3\n",
    "c3y = (50+58+51)/3"
   ]
  },
  {
   "cell_type": "code",
   "execution_count": 43,
   "metadata": {},
   "outputs": [
    {
     "data": {
      "text/plain": [
       "[3.605551275463989, 7.0, 4.47213595499958]"
      ]
     },
     "metadata": {},
     "output_type": "display_data"
    },
    {
     "data": {
      "text/plain": [
       "[3.605551275463989, 5.0, 2.8284271247461903]"
      ]
     },
     "metadata": {},
     "output_type": "display_data"
    },
    {
     "data": {
      "text/plain": [
       "82.0"
      ]
     },
     "metadata": {},
     "output_type": "display_data"
    },
    {
     "data": {
      "text/plain": [
       "46.0"
      ]
     },
     "metadata": {},
     "output_type": "display_data"
    }
   ],
   "source": [
    "#Then we find the distance between the new centroids and the points in their respective cluster\n",
    "\n",
    "#This finds the dist of all points\n",
    "C1temp = dist(c1x, c1y)\n",
    "C3temp = dist(c3x, c3y)\n",
    "\n",
    "#This shows only the dist we want\n",
    "C1 = C1temp[0:3]\n",
    "display(C1)\n",
    "C3 = C3temp[3:6]\n",
    "display(C3)\n",
    "\n",
    "#We find the SSE by Squaring each value in C1 or C3 and then adding them together\n",
    "SSEc1 = C1[0]**2 + C1[1]**2 + C1[2]**2\n",
    "display(SSEc1)\n",
    "\n",
    "SSEc3 = C3[0]**2 + C3[1]**2 + C3[2]**2\n",
    "display(SSEc3)"
   ]
  },
  {
   "cell_type": "markdown",
   "metadata": {},
   "source": [
    "Clearly the SSE for C1, 82, is larger than the SSE for C3, 46. So we remove one point from C1 to add to C2 so that C2 is no longer empty. This should also cause the SSE of C1 to be reduced. We will choose P2 to be removed from C1 and added to C2 since it contributes the most to the high SSE value of C1. So the new clusters are as follows:\n",
    "\n",
    "C1 = {P1, P3} <br>\n",
    "C2 = {P2} <br>\n",
    "C3 = {P4, P5, P6}\n",
    "\n",
    "Notice that the number of clusters is still 3 and there is no longer an empty cluster."
   ]
  }
 ],
 "metadata": {
  "kernelspec": {
   "display_name": "Python 3",
   "language": "python",
   "name": "python3"
  },
  "language_info": {
   "codemirror_mode": {
    "name": "ipython",
    "version": 3
   },
   "file_extension": ".py",
   "mimetype": "text/x-python",
   "name": "python",
   "nbconvert_exporter": "python",
   "pygments_lexer": "ipython3",
   "version": "3.8.3"
  }
 },
 "nbformat": 4,
 "nbformat_minor": 4
}
